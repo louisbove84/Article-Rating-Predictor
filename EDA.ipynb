{
 "cells": [
  {
   "cell_type": "code",
   "execution_count": null,
   "metadata": {},
   "outputs": [],
   "source": [
    "#!pip3 install requests soupsieve lxml\n",
    "#!pip3 install beautifulsoup4\n",
    "#!pip3 install requests\n",
    "#!pip install html5lib\n",
    "#!pip install GetOldTweets3\n",
    "#!pip install searchtweets\n",
    "#!pip install tweepy"
   ]
  },
  {
   "cell_type": "code",
   "execution_count": 1,
   "metadata": {},
   "outputs": [],
   "source": [
    "import pandas as pd\n",
    "import requests\n",
    "import csv\n",
    "import time\n",
    "import random\n",
    "from bs4 import BeautifulSoup\n",
    "from datetime import datetime\n",
    "import GetOldTweets3 #as got"
   ]
  },
  {
   "cell_type": "markdown",
   "metadata": {},
   "source": [
    "# Reddit"
   ]
  },
  {
   "cell_type": "code",
   "execution_count": 2,
   "metadata": {},
   "outputs": [],
   "source": [
    "#Webpage URL\n",
    "url = \"https://old.reddit.com/r/MachineLearning/\"\n",
    "\n",
    "# Headers to mimic a browser visit\n",
    "headers = {'User-Agent': 'Mozilla/5.0'}\n",
    "\n",
    "# Returns a requests.models.Response object\n",
    "page = requests.get(url, headers=headers)\n",
    "\n",
    "#Create variable for Beautiful Soup object\n",
    "soup = BeautifulSoup(page.text, 'html.parser')\n",
    "\n",
    "#Find all the 'span' tags with 'domain' inside\n",
    "for domain in soup.find_all(\"span\", class_=\"domain\"):\n",
    "    if domain.text != \"(self.MachineLearning)\":\n",
    "        continue\n",
    "    #print(domain.parent.parent.parent.parent)\n",
    "    parent_div = domain.parent.parent.parent.parent"
   ]
  },
  {
   "cell_type": "code",
   "execution_count": 3,
   "metadata": {},
   "outputs": [],
   "source": [
    "#\n",
    "attrs = {'class': 'thing', 'data-domain': 'self.MachineLearning'}\n",
    "\n",
    "df_reddit = pd.DataFrame()\n",
    "title_lst = []\n",
    "author_lst = []\n",
    "date_lst = []\n",
    "num_comments_lst = []\n",
    "likes_lst = []\n",
    "counter = 1\n",
    "\n",
    "while (counter <= 100):\n",
    "    for post in soup.find_all('div', attrs=attrs):\n",
    "\n",
    "        #Obtain title, author, number of comments, and likes\n",
    "        try:\n",
    "            title = post.find('p', class_=\"title\").text.split(']')[1].split('(')[0]\n",
    "        except:\n",
    "            title = post.find('p', class_=\"title\").text\n",
    "        author = post.find('a', class_='author').text\n",
    "        date = post.find('time')['datetime'].split('T')[0]\n",
    "\n",
    "        comments = post.find('a', class_='comments').text.split()[0]\n",
    "        if comments == \"comment\":\n",
    "            comments = 0\n",
    "\n",
    "        likes = post.find(\"div\", attrs={\"class\": \"score likes\"}).text\n",
    "        if likes == \"•\":\n",
    "            likes = \"None\"\n",
    "\n",
    "        #df_dict.update({'title':title, 'author':author,'num_comments':comments, 'likes':likes})\n",
    "\n",
    "        title_lst.append(title)\n",
    "        author_lst.append(author)\n",
    "        date_lst.append(date)\n",
    "        num_comments_lst.append(comments)\n",
    "        likes_lst.append(likes)\n",
    "\n",
    "    #\n",
    "    try:\n",
    "        next_button = soup.find(\"span\", class_=\"next-button\")\n",
    "    except:\n",
    "        pass\n",
    "    try:\n",
    "        next_page_link = next_button.find(\"a\").attrs['href']\n",
    "    except: \n",
    "        pass\n",
    "\n",
    "    time.sleep(2)\n",
    "    page = requests.get(next_page_link, headers=headers)\n",
    "    soup = BeautifulSoup(page.text, 'html.parser')\n",
    "    counter += 1\n",
    "    if counter>200:\n",
    "        break\n",
    "        \n",
    "df_reddit = pd.DataFrame({'title':title_lst,'author':author_lst, 'date':date,\n",
    "                   'num_comments':num_comments_lst,'likes':likes_lst})"
   ]
  },
  {
   "cell_type": "code",
   "execution_count": 4,
   "metadata": {},
   "outputs": [
    {
     "data": {
      "text/plain": [
       "(1301, 5)"
      ]
     },
     "execution_count": 4,
     "metadata": {},
     "output_type": "execute_result"
    }
   ],
   "source": [
    "df_reddit.shape"
   ]
  },
  {
   "cell_type": "code",
   "execution_count": 1,
   "metadata": {},
   "outputs": [
    {
     "ename": "NameError",
     "evalue": "name 'df_reddit' is not defined",
     "output_type": "error",
     "traceback": [
      "\u001b[0;31m---------------------------------------------------------------------------\u001b[0m",
      "\u001b[0;31mNameError\u001b[0m                                 Traceback (most recent call last)",
      "\u001b[0;32m<ipython-input-1-d2425d160184>\u001b[0m in \u001b[0;36m<module>\u001b[0;34m\u001b[0m\n\u001b[0;32m----> 1\u001b[0;31m \u001b[0mdf_reddit\u001b[0m\u001b[0;34m.\u001b[0m\u001b[0msample\u001b[0m\u001b[0;34m(\u001b[0m\u001b[0;36m20\u001b[0m\u001b[0;34m)\u001b[0m\u001b[0;34m\u001b[0m\u001b[0;34m\u001b[0m\u001b[0m\n\u001b[0m",
      "\u001b[0;31mNameError\u001b[0m: name 'df_reddit' is not defined"
     ]
    }
   ],
   "source": [
    "df_reddit.sample(20)"
   ]
  },
  {
   "cell_type": "code",
   "execution_count": 6,
   "metadata": {},
   "outputs": [],
   "source": [
    "df_reddit.to_csv('reddit_data.csv', index=False)"
   ]
  },
  {
   "cell_type": "markdown",
   "metadata": {},
   "source": [
    "# Twitter"
   ]
  },
  {
   "cell_type": "code",
   "execution_count": 200,
   "metadata": {},
   "outputs": [],
   "source": [
    "import tweepy\n",
    "import sys\n",
    "\n",
    "class MyStreamListener(tweepy.StreamListener):\n",
    "    def on_status(self,status):\n",
    "        print(status.text)\n",
    "    def on_error(self,status_code):\n",
    "        print(status_code)\n",
    "\n",
    "\n",
    "#INSERT CODE HERE\n",
    "\n",
    "\n",
    "auth = tweepy.OAuthHandler(consumer_key,consumer_secret)\n",
    "auth.set_access_token(access_token, access_token_secret)\n",
    "api = tweepy.API(auth)\n",
    "\n",
    "if (not api):\n",
    "    print(\"Authentication failed!\")\n",
    "    sys.exit(-1)\n",
    "\n",
    "#myStreamListener = MyStreamListener()\n",
    "#myStream = tweepy.Stream(auth = api.auth, listener=myStreamListener)\n",
    "#myStream.filter(track=[\"news\"])"
   ]
  },
  {
   "cell_type": "code",
   "execution_count": 16,
   "metadata": {},
   "outputs": [],
   "source": [
    "twitter_names = open('ml.txt','r')"
   ]
  },
  {
   "cell_type": "code",
   "execution_count": 17,
   "metadata": {},
   "outputs": [],
   "source": [
    "count = 0\n",
    "twitterID = []\n",
    "\n",
    "while True:\n",
    "    count += 1\n",
    "    \n",
    "    #Read line of text\n",
    "    line = twitter_names.readline()\n",
    "    if not line:\n",
    "        break\n",
    "    twitterID.append(line.split('\\n')[0])\n",
    "    \n",
    "twitter_names.close()"
   ]
  },
  {
   "cell_type": "code",
   "execution_count": 226,
   "metadata": {},
   "outputs": [],
   "source": [
    "twitter_user = []\n",
    "twitter_date = []\n",
    "twitter_text = []\n",
    "twitter_fav = []\n",
    "twitter_retweet = []"
   ]
  },
  {
   "cell_type": "code",
   "execution_count": 235,
   "metadata": {},
   "outputs": [],
   "source": [
    "for user in twitterID:\n",
    "    tweet = api.user_timeline(screen_name=user, \n",
    "                               # 200 is the maximum allowed count\n",
    "                               count=200,\n",
    "                               include_rts = False,\n",
    "                               # Necessary to keep full_text \n",
    "                               # otherwise only the first 140 words are extracted\n",
    "                               tweet_mode = 'extended'\n",
    "                               )\n",
    "    for info in tweet:\n",
    "        twitter_user.append(user)\n",
    "        twitter_date.append(info.created_at)\n",
    "        twitter_text.append(info.full_text)\n",
    "        twitter_fav.append(info.favorite_count)\n",
    "        twitter_retweet.append(info.retweet_count)"
   ]
  },
  {
   "cell_type": "code",
   "execution_count": 236,
   "metadata": {},
   "outputs": [],
   "source": [
    "df_twitter = pd.DataFrame({'user':twitter_user,'date':twitter_date, 'text':twitter_text,\n",
    "                   'num_favorites':twitter_fav,'num_retweets':twitter_retweet})"
   ]
  },
  {
   "cell_type": "code",
   "execution_count": 21,
   "metadata": {},
   "outputs": [
    {
     "data": {
      "text/plain": [
       "(2640, 6)"
      ]
     },
     "execution_count": 21,
     "metadata": {},
     "output_type": "execute_result"
    }
   ],
   "source": [
    "df_twitter.shape"
   ]
  },
  {
   "cell_type": "code",
   "execution_count": 239,
   "metadata": {},
   "outputs": [],
   "source": [
    "df_twitter.to_csv('twitter_data.csv')"
   ]
  },
  {
   "cell_type": "code",
   "execution_count": 20,
   "metadata": {},
   "outputs": [],
   "source": [
    "df_twitter = pd.read_csv('twitter.csv')"
   ]
  },
  {
   "cell_type": "code",
   "execution_count": 20,
   "metadata": {},
   "outputs": [
    {
     "data": {
      "text/plain": [
       "array([[<AxesSubplot:title={'center':'Unnamed: 0'}>,\n",
       "        <AxesSubplot:title={'center':'num_favorites'}>],\n",
       "       [<AxesSubplot:title={'center':'num_retweets'}>, <AxesSubplot:>]],\n",
       "      dtype=object)"
      ]
     },
     "execution_count": 20,
     "metadata": {},
     "output_type": "execute_result"
    },
    {
     "data": {
      "image/png": "[encoded data removed]",
      "text/plain": [
       "<Figure size 432x288 with 4 Axes>"
      ]
     },
     "metadata": {
      "needs_background": "light"
     },
     "output_type": "display_data"
    }
   ],
   "source": [
    "df_twitter[df_twitter['num_favorites'] > 0].hist(bins=50)"
   ]
  },
  {
   "cell_type": "markdown",
   "metadata": {},
   "source": [
    "# Twitter Hashtags"
   ]
  },
  {
   "cell_type": "markdown",
   "metadata": {},
   "source": [
    " #machinelearning #artificialintelligence #ai #datascience #deeplearning #bigdata #dataanalytics #ml #neuralnetworks  "
   ]
  },
  {
   "cell_type": "code",
   "execution_count": null,
   "metadata": {},
   "outputs": [],
   "source": []
  },
  {
   "cell_type": "code",
   "execution_count": null,
   "metadata": {},
   "outputs": [],
   "source": []
  },
  {
   "cell_type": "markdown",
   "metadata": {},
   "source": [
    "# Medium"
   ]
  },
  {
   "cell_type": "code",
   "execution_count": 7,
   "metadata": {},
   "outputs": [],
   "source": [
    "#Code taken from https://medium.com/the-innovation/scraping-medium-with-python-beautiful-soup-3314f898bbf5\n",
    "urls = {'Towards Data Science': 'https://towardsdatascience.com/archive/{0}/{1:02d}/{2:02d}'}\n",
    "\n",
    "def convert_day(day):\n",
    "    month_days = [31, 28, 31, 30, 31, 30, 31, 31, 30, 31, 30, 31]\n",
    "    m = 0\n",
    "    d = 0\n",
    "    while day > 0:\n",
    "        d = day\n",
    "        day -= month_days[m]\n",
    "        m += 1\n",
    "    return (m, d)\n",
    "\n",
    "def get_claps(claps_str):\n",
    "    if (claps_str is None) or (claps_str == '') or (claps_str.split is None):\n",
    "        return 0\n",
    "    split = claps_str.split('K')\n",
    "    claps = float(split[0])\n",
    "    claps = int(claps*1000) if len(split) == 2 else int(claps)\n",
    "    return claps\n",
    "\n",
    "selected_days = random.sample([i for i in range(1, 366)], 200)"
   ]
  },
  {
   "cell_type": "code",
   "execution_count": 8,
   "metadata": {},
   "outputs": [
    {
     "name": "stdout",
     "output_type": "stream",
     "text": [
      "1 / 200 ; 2020-10-21\n",
      "2 / 200 ; 2020-12-16\n",
      "3 / 200 ; 2020-09-09\n",
      "4 / 200 ; 2020-05-24\n",
      "5 / 200 ; 2020-11-04\n",
      "6 / 200 ; 2020-04-03\n",
      "7 / 200 ; 2020-07-11\n",
      "8 / 200 ; 2020-12-14\n",
      "9 / 200 ; 2020-04-02\n",
      "10 / 200 ; 2020-01-15\n",
      "11 / 200 ; 2020-05-19\n",
      "12 / 200 ; 2020-06-05\n",
      "13 / 200 ; 2020-08-16\n",
      "14 / 200 ; 2020-05-30\n",
      "15 / 200 ; 2020-10-07\n",
      "16 / 200 ; 2020-06-13\n",
      "17 / 200 ; 2020-11-25\n",
      "18 / 200 ; 2020-05-12\n",
      "19 / 200 ; 2020-06-23\n",
      "20 / 200 ; 2020-10-23\n",
      "21 / 200 ; 2020-03-21\n",
      "22 / 200 ; 2020-01-28\n",
      "23 / 200 ; 2020-12-13\n",
      "24 / 200 ; 2020-08-23\n",
      "25 / 200 ; 2020-02-01\n",
      "26 / 200 ; 2020-06-30\n",
      "27 / 200 ; 2020-09-06\n",
      "28 / 200 ; 2020-08-11\n",
      "29 / 200 ; 2020-12-17\n",
      "30 / 200 ; 2020-04-18\n",
      "31 / 200 ; 2020-03-22\n",
      "32 / 200 ; 2020-07-19\n",
      "33 / 200 ; 2020-10-31\n",
      "34 / 200 ; 2020-11-26\n",
      "35 / 200 ; 2020-02-22\n",
      "36 / 200 ; 2020-04-26\n",
      "37 / 200 ; 2020-12-10\n",
      "38 / 200 ; 2020-12-25\n",
      "39 / 200 ; 2020-09-30\n",
      "40 / 200 ; 2020-12-20\n",
      "41 / 200 ; 2020-07-04\n",
      "42 / 200 ; 2020-12-05\n",
      "43 / 200 ; 2020-05-07\n",
      "44 / 200 ; 2020-12-30\n",
      "45 / 200 ; 2020-12-04\n",
      "46 / 200 ; 2020-06-25\n",
      "47 / 200 ; 2020-09-11\n",
      "48 / 200 ; 2020-01-18\n",
      "49 / 200 ; 2020-09-08\n",
      "50 / 200 ; 2020-02-26\n",
      "51 / 200 ; 2020-03-16\n",
      "52 / 200 ; 2020-07-23\n",
      "53 / 200 ; 2020-01-14\n",
      "54 / 200 ; 2020-01-31\n",
      "55 / 200 ; 2020-09-07\n",
      "56 / 200 ; 2020-06-03\n",
      "57 / 200 ; 2020-08-14\n",
      "58 / 200 ; 2020-08-13\n",
      "59 / 200 ; 2020-02-27\n",
      "60 / 200 ; 2020-02-11\n",
      "61 / 200 ; 2020-05-02\n",
      "62 / 200 ; 2020-08-20\n",
      "63 / 200 ; 2020-08-18\n",
      "64 / 200 ; 2020-03-27\n",
      "65 / 200 ; 2020-09-15\n",
      "66 / 200 ; 2020-11-09\n",
      "67 / 200 ; 2020-09-10\n",
      "68 / 200 ; 2020-12-31\n",
      "69 / 200 ; 2020-06-24\n",
      "70 / 200 ; 2020-06-08\n",
      "71 / 200 ; 2020-02-28\n",
      "72 / 200 ; 2020-09-05\n",
      "73 / 200 ; 2020-07-16\n",
      "74 / 200 ; 2020-08-31\n",
      "75 / 200 ; 2020-12-19\n",
      "76 / 200 ; 2020-06-01\n",
      "77 / 200 ; 2020-07-24\n",
      "78 / 200 ; 2020-03-03\n",
      "79 / 200 ; 2020-04-23\n",
      "80 / 200 ; 2020-04-11\n",
      "81 / 200 ; 2020-07-01\n",
      "82 / 200 ; 2020-08-21\n",
      "83 / 200 ; 2020-03-05\n",
      "84 / 200 ; 2020-10-10\n",
      "85 / 200 ; 2020-07-18\n",
      "86 / 200 ; 2020-02-13\n",
      "87 / 200 ; 2020-11-30\n",
      "88 / 200 ; 2020-05-04\n",
      "89 / 200 ; 2020-05-20\n",
      "90 / 200 ; 2020-04-13\n",
      "91 / 200 ; 2020-11-18\n",
      "92 / 200 ; 2020-09-20\n",
      "93 / 200 ; 2020-04-10\n",
      "94 / 200 ; 2020-12-27\n",
      "95 / 200 ; 2020-11-20\n",
      "96 / 200 ; 2020-06-20\n",
      "97 / 200 ; 2020-08-26\n",
      "98 / 200 ; 2020-07-06\n",
      "99 / 200 ; 2020-01-27\n",
      "100 / 200 ; 2020-01-26\n",
      "101 / 200 ; 2020-12-12\n",
      "102 / 200 ; 2020-02-10\n",
      "103 / 200 ; 2020-01-21\n",
      "104 / 200 ; 2020-08-17\n",
      "105 / 200 ; 2020-11-01\n",
      "106 / 200 ; 2020-02-25\n",
      "107 / 200 ; 2020-10-22\n",
      "108 / 200 ; 2020-12-28\n",
      "109 / 200 ; 2020-06-17\n",
      "110 / 200 ; 2020-10-14\n",
      "111 / 200 ; 2020-03-06\n",
      "112 / 200 ; 2020-06-04\n",
      "113 / 200 ; 2020-03-20\n",
      "114 / 200 ; 2020-07-07\n",
      "115 / 200 ; 2020-03-17\n",
      "116 / 200 ; 2020-09-23\n",
      "117 / 200 ; 2020-09-27\n",
      "118 / 200 ; 2020-10-12\n",
      "119 / 200 ; 2020-01-06\n",
      "120 / 200 ; 2020-01-01\n",
      "121 / 200 ; 2020-01-13\n",
      "122 / 200 ; 2020-05-06\n",
      "123 / 200 ; 2020-02-20\n",
      "124 / 200 ; 2020-08-19\n",
      "125 / 200 ; 2020-04-01\n",
      "126 / 200 ; 2020-01-04\n",
      "127 / 200 ; 2020-06-29\n",
      "128 / 200 ; 2020-08-01\n",
      "129 / 200 ; 2020-07-20\n",
      "130 / 200 ; 2020-08-05\n",
      "131 / 200 ; 2020-02-18\n",
      "132 / 200 ; 2020-10-29\n",
      "133 / 200 ; 2020-09-04\n",
      "134 / 200 ; 2020-06-19\n",
      "135 / 200 ; 2020-02-07\n",
      "136 / 200 ; 2020-02-06\n",
      "137 / 200 ; 2020-03-26\n",
      "138 / 200 ; 2020-05-08\n",
      "139 / 200 ; 2020-02-17\n",
      "140 / 200 ; 2020-04-08\n",
      "141 / 200 ; 2020-07-13\n",
      "142 / 200 ; 2020-05-29\n",
      "143 / 200 ; 2020-11-12\n",
      "144 / 200 ; 2020-07-15\n",
      "145 / 200 ; 2020-08-25\n",
      "146 / 200 ; 2020-02-04\n",
      "147 / 200 ; 2020-07-27\n",
      "148 / 200 ; 2020-09-02\n",
      "149 / 200 ; 2020-02-15\n",
      "150 / 200 ; 2020-11-28\n",
      "151 / 200 ; 2020-10-19\n",
      "152 / 200 ; 2020-11-24\n",
      "153 / 200 ; 2020-08-30\n",
      "154 / 200 ; 2020-04-27\n",
      "155 / 200 ; 2020-12-23\n",
      "156 / 200 ; 2020-02-09\n",
      "157 / 200 ; 2020-05-14\n",
      "158 / 200 ; 2020-03-10\n",
      "159 / 200 ; 2020-12-09\n",
      "160 / 200 ; 2020-09-28\n",
      "161 / 200 ; 2020-08-07\n",
      "162 / 200 ; 2020-09-22\n",
      "163 / 200 ; 2020-01-07\n",
      "164 / 200 ; 2020-06-27\n",
      "165 / 200 ; 2020-04-19\n",
      "166 / 200 ; 2020-06-07\n",
      "167 / 200 ; 2020-10-13\n",
      "168 / 200 ; 2020-08-10\n",
      "169 / 200 ; 2020-11-03\n",
      "170 / 200 ; 2020-01-22\n",
      "171 / 200 ; 2020-10-08\n",
      "172 / 200 ; 2020-12-29\n",
      "173 / 200 ; 2020-02-14\n",
      "174 / 200 ; 2020-04-17\n",
      "175 / 200 ; 2020-04-30\n",
      "176 / 200 ; 2020-03-13\n",
      "177 / 200 ; 2020-12-03\n",
      "178 / 200 ; 2020-03-15\n",
      "179 / 200 ; 2020-05-28\n",
      "180 / 200 ; 2020-09-29\n",
      "181 / 200 ; 2020-04-21\n",
      "182 / 200 ; 2020-06-18\n",
      "183 / 200 ; 2020-09-26\n",
      "184 / 200 ; 2020-03-25\n",
      "185 / 200 ; 2020-09-21\n",
      "186 / 200 ; 2020-06-16\n",
      "187 / 200 ; 2020-04-07\n",
      "188 / 200 ; 2020-11-13\n",
      "189 / 200 ; 2020-03-30\n",
      "190 / 200 ; 2020-12-21\n",
      "191 / 200 ; 2020-01-08\n",
      "192 / 200 ; 2020-03-19\n",
      "193 / 200 ; 2020-07-17\n",
      "194 / 200 ; 2020-05-23\n",
      "195 / 200 ; 2020-10-30\n",
      "196 / 200 ; 2020-03-02\n",
      "197 / 200 ; 2020-07-02\n",
      "198 / 200 ; 2020-03-01\n",
      "199 / 200 ; 2020-10-15\n",
      "200 / 200 ; 2020-08-09\n"
     ]
    }
   ],
   "source": [
    "data = []\n",
    "article_id = 0\n",
    "year = 2020\n",
    "i = 0\n",
    "n = len(selected_days)\n",
    "for d in selected_days:\n",
    "    i += 1\n",
    "    month, day = convert_day(d)\n",
    "    date = '{0}-{1:02d}-{2:02d}'.format(year, month, day)\n",
    "    print(f'{i} / {n} ; {date}')\n",
    "    for publication, url in urls.items():\n",
    "        response = requests.get(url.format(year, month, day), allow_redirects=True)\n",
    "        if not response.url.startswith(url.format(year, month, day)):\n",
    "            continue\n",
    "        page = response.content\n",
    "        soup = BeautifulSoup(page, 'html.parser')\n",
    "        articles = soup.find_all(\n",
    "            \"div\",\n",
    "            class_=\"postArticle postArticle--short js-postArticle js-trackPostPresentation js-trackPostScrolls\")\n",
    "        for article in articles:\n",
    "            title = article.find(\"h3\", class_=\"graf--title\")\n",
    "            if title is None:\n",
    "                continue\n",
    "            title = title.contents[0]\n",
    "            article_id += 1\n",
    "            subtitle = article.find(\"h4\", class_=\"graf--subtitle\")\n",
    "            subtitle = subtitle.contents[0] if subtitle is not None else ''\n",
    "            claps = get_claps(article.find_all(\"button\")[1].contents[0])\n",
    "            responses = article.find_all(\"a\")\n",
    "            if len(responses) == 7:\n",
    "                responses = responses[6].contents[0].split(' ')\n",
    "                if len(responses) == 0:\n",
    "                    responses = 0\n",
    "                else:\n",
    "                    responses = responses[0]\n",
    "            else:\n",
    "                responses = 0\n",
    "\n",
    "            data.append([article_id, title, subtitle,\n",
    "                         claps, responses,\n",
    "                         publication, date])"
   ]
  },
  {
   "cell_type": "code",
   "execution_count": 9,
   "metadata": {},
   "outputs": [],
   "source": [
    "medium_df = pd.DataFrame(data, columns=[\n",
    "    'id', 'title', 'subtitle',\n",
    "    'claps', 'responses',\n",
    "    'publication', 'date'])"
   ]
  },
  {
   "cell_type": "code",
   "execution_count": 10,
   "metadata": {},
   "outputs": [
    {
     "data": {
      "text/plain": [
       "(10011, 7)"
      ]
     },
     "execution_count": 10,
     "metadata": {},
     "output_type": "execute_result"
    }
   ],
   "source": [
    "medium_df.shape"
   ]
  },
  {
   "cell_type": "code",
   "execution_count": 11,
   "metadata": {},
   "outputs": [],
   "source": [
    "medium_df.to_csv('medium_data.csv', index=False)"
   ]
  },
  {
   "cell_type": "code",
   "execution_count": 4,
   "metadata": {},
   "outputs": [],
   "source": [
    "medium_df = pd.read_csv('medium_data.csv')"
   ]
  },
  {
   "cell_type": "code",
   "execution_count": 8,
   "metadata": {},
   "outputs": [
    {
     "data": {
      "text/plain": [
       "<AxesSubplot:>"
      ]
     },
     "execution_count": 8,
     "metadata": {},
     "output_type": "execute_result"
    },
    {
     "data": {
      "image/png": "[encoded data removed]",
      "text/plain": [
       "<Figure size 432x288 with 1 Axes>"
      ]
     },
     "metadata": {
      "needs_background": "light"
     },
     "output_type": "display_data"
    }
   ],
   "source": [
    "medium_df['claps'].value_counts().hist()"
   ]
  },
  {
   "cell_type": "code",
   "execution_count": null,
   "metadata": {},
   "outputs": [],
   "source": []
  }
 ],
 "metadata": {
  "kernelspec": {
   "display_name": "Python 3",
   "language": "python",
   "name": "python3"
  },
  "language_info": {
   "codemirror_mode": {
    "name": "ipython",
    "version": 3
   },
   "file_extension": ".py",
   "mimetype": "text/x-python",
   "name": "python",
   "nbconvert_exporter": "python",
   "pygments_lexer": "ipython3",
   "version": "3.7.7"
  }
 },
 "nbformat": 4,
 "nbformat_minor": 4
}

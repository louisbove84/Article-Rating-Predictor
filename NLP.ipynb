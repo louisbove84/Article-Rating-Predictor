{
 "cells": [
  {
   "cell_type": "code",
   "execution_count": 9,
   "metadata": {},
   "outputs": [
    {
     "name": "stderr",
     "output_type": "stream",
     "text": [
      "[nltk_data] Error loading punkt: <urlopen error [Errno -3] Temporary\n",
      "[nltk_data]     failure in name resolution>\n",
      "[nltk_data] Downloading package stopwords to\n",
      "[nltk_data]     /home/louisbove84/nltk_data...\n",
      "[nltk_data]   Package stopwords is already up-to-date!\n",
      "[nltk_data] Downloading package averaged_perceptron_tagger to\n",
      "[nltk_data]     /home/louisbove84/nltk_data...\n",
      "[nltk_data]   Unzipping taggers/averaged_perceptron_tagger.zip.\n"
     ]
    },
    {
     "data": {
      "text/plain": [
       "True"
      ]
     },
     "execution_count": 9,
     "metadata": {},
     "output_type": "execute_result"
    }
   ],
   "source": [
    "#Downloads\n",
    "nltk.download('punkt')\n",
    "nltk.download(\"stopwords\")\n",
    "SENT_DETECTOR = nltk.data.load('tokenizers/punkt/english.pickle')\n",
    "nltk.download('averaged_perceptron_tagger')"
   ]
  },
  {
   "cell_type": "code",
   "execution_count": 58,
   "metadata": {},
   "outputs": [],
   "source": [
    "import pandas as pd\n",
    "import numpy as np\n",
    "import matplotlib.pyplot as plt\n",
    "import string\n",
    "import nltk\n",
    "from nltk.tokenize import sent_tokenize, word_tokenize\n",
    "from nltk.corpus import stopwords\n",
    "from nltk.stem.snowball import SnowballStemmer\n",
    "from nltk.util import ngrams\n",
    "from nltk import pos_tag\n",
    "from collections import Counter\n",
    "from sklearn.feature_extraction.text import CountVectorizer, TfidfVectorizer"
   ]
  },
  {
   "cell_type": "code",
   "execution_count": 74,
   "metadata": {},
   "outputs": [],
   "source": [
    "from sklearn.model_selection import train_test_split\n",
    "from sklearn.tree import DecisionTreeClassifier\n",
    "from sklearn.ensemble import RandomForestClassifier, GradientBoostingClassifier, AdaBoostClassifier\n",
    "from sklearn.neighbors import KNeighborsClassifier\n",
    "from xgboost import XGBClassifier\n",
    "from sklearn.metrics import accuracy_score, classification_report"
   ]
  },
  {
   "cell_type": "markdown",
   "metadata": {},
   "source": [
    "# Structure and Normalize Text"
   ]
  },
  {
   "cell_type": "code",
   "execution_count": 2,
   "metadata": {},
   "outputs": [],
   "source": [
    "#Import Twitter and Reddit DataFrames\n",
    "df_twitter = pd.read_csv('twitter.csv')"
   ]
  },
  {
   "cell_type": "code",
   "execution_count": 15,
   "metadata": {},
   "outputs": [
    {
     "data": {
      "text/html": [
       "<div>\n",
       "<style scoped>\n",
       "    .dataframe tbody tr th:only-of-type {\n",
       "        vertical-align: middle;\n",
       "    }\n",
       "\n",
       "    .dataframe tbody tr th {\n",
       "        vertical-align: top;\n",
       "    }\n",
       "\n",
       "    .dataframe thead th {\n",
       "        text-align: right;\n",
       "    }\n",
       "</style>\n",
       "<table border=\"1\" class=\"dataframe\">\n",
       "  <thead>\n",
       "    <tr style=\"text-align: right;\">\n",
       "      <th></th>\n",
       "      <th>Unnamed: 0</th>\n",
       "      <th>user</th>\n",
       "      <th>date</th>\n",
       "      <th>text</th>\n",
       "      <th>num_favorites</th>\n",
       "      <th>num_retweets</th>\n",
       "      <th>tokenized</th>\n",
       "    </tr>\n",
       "  </thead>\n",
       "  <tbody>\n",
       "    <tr>\n",
       "      <th>601</th>\n",
       "      <td>601</td>\n",
       "      <td>rasbt</td>\n",
       "      <td>2020-12-04 16:51:47</td>\n",
       "      <td>@howtolearnmach1 Many thanks for the thorough ...</td>\n",
       "      <td>3</td>\n",
       "      <td>0</td>\n",
       "      <td>[howtolearnmach1, mani, thank, for, the, thoro...</td>\n",
       "    </tr>\n",
       "    <tr>\n",
       "      <th>237</th>\n",
       "      <td>237</td>\n",
       "      <td>AndrewYNg</td>\n",
       "      <td>2020-06-19 18:02:13</td>\n",
       "      <td>Happy Juneteenth! Raising awareness this past ...</td>\n",
       "      <td>798</td>\n",
       "      <td>84</td>\n",
       "      <td>[happi, juneteenth, rais, awar, this, past, mo...</td>\n",
       "    </tr>\n",
       "    <tr>\n",
       "      <th>35</th>\n",
       "      <td>35</td>\n",
       "      <td>kaifulee</td>\n",
       "      <td>2020-12-08 09:39:39</td>\n",
       "      <td>Recommending @ExponentialView podcast, the epi...</td>\n",
       "      <td>30</td>\n",
       "      <td>9</td>\n",
       "      <td>[recommend, exponentialview, podcast, the, epi...</td>\n",
       "    </tr>\n",
       "  </tbody>\n",
       "</table>\n",
       "</div>"
      ],
      "text/plain": [
       "     Unnamed: 0       user                 date  \\\n",
       "601         601      rasbt  2020-12-04 16:51:47   \n",
       "237         237  AndrewYNg  2020-06-19 18:02:13   \n",
       "35           35   kaifulee  2020-12-08 09:39:39   \n",
       "\n",
       "                                                  text  num_favorites  \\\n",
       "601  @howtolearnmach1 Many thanks for the thorough ...              3   \n",
       "237  Happy Juneteenth! Raising awareness this past ...            798   \n",
       "35   Recommending @ExponentialView podcast, the epi...             30   \n",
       "\n",
       "     num_retweets                                          tokenized  \n",
       "601             0  [howtolearnmach1, mani, thank, for, the, thoro...  \n",
       "237            84  [happi, juneteenth, rais, awar, this, past, mo...  \n",
       "35              9  [recommend, exponentialview, podcast, the, epi...  "
      ]
     },
     "execution_count": 15,
     "metadata": {},
     "output_type": "execute_result"
    }
   ],
   "source": [
    "df_twitter.sample(3)"
   ]
  },
  {
   "cell_type": "code",
   "execution_count": 4,
   "metadata": {},
   "outputs": [
    {
     "data": {
      "text/plain": [
       "(2640,)"
      ]
     },
     "execution_count": 4,
     "metadata": {},
     "output_type": "execute_result"
    }
   ],
   "source": [
    "#\n",
    "df_twitter['num_favorites'].shape"
   ]
  },
  {
   "cell_type": "code",
   "execution_count": 5,
   "metadata": {},
   "outputs": [
    {
     "data": {
      "text/plain": [
       "(423,)"
      ]
     },
     "execution_count": 5,
     "metadata": {},
     "output_type": "execute_result"
    }
   ],
   "source": [
    "df_twitter[df_twitter['num_favorites']>=500]['num_favorites'].shape"
   ]
  },
  {
   "cell_type": "code",
   "execution_count": 6,
   "metadata": {},
   "outputs": [
    {
     "data": {
      "text/plain": [
       "(2640,)"
      ]
     },
     "execution_count": 6,
     "metadata": {},
     "output_type": "execute_result"
    }
   ],
   "source": [
    "df_twitter['num_retweets'].shape"
   ]
  },
  {
   "cell_type": "code",
   "execution_count": 7,
   "metadata": {},
   "outputs": [
    {
     "data": {
      "text/plain": [
       "(487,)"
      ]
     },
     "execution_count": 7,
     "metadata": {},
     "output_type": "execute_result"
    }
   ],
   "source": [
    "df_twitter[df_twitter['num_retweets']>=100]['num_retweets'].shape"
   ]
  },
  {
   "cell_type": "code",
   "execution_count": 8,
   "metadata": {},
   "outputs": [
    {
     "data": {
      "image/png": "[encoded data removed]",
      "text/plain": [
       "<Figure size 432x288 with 1 Axes>"
      ]
     },
     "metadata": {
      "needs_background": "light"
     },
     "output_type": "display_data"
    }
   ],
   "source": [
    "#\n",
    "plt.hist(df_twitter['num_favorites'].value_counts(), bins=500)\n",
    "plt.ylim(0, 50)\n",
    "plt.xlim(0, 50)\n",
    "plt.xlabel(\"Total Num of Favorites in a particular tweet\")\n",
    "plt.ylabel(\"Value Counts\")\n",
    "plt.show()"
   ]
  },
  {
   "cell_type": "code",
   "execution_count": 9,
   "metadata": {},
   "outputs": [
    {
     "data": {
      "image/png": "[encoded data removed]",
      "text/plain": [
       "<Figure size 432x288 with 1 Axes>"
      ]
     },
     "metadata": {
      "needs_background": "light"
     },
     "output_type": "display_data"
    }
   ],
   "source": [
    "#Is there a reason to include both retweets and favorites if there is heteroscedasticity?\n",
    "#Does this bring up Multicolinierity?\n",
    "plt.scatter(df_twitter['num_retweets'],df_twitter['num_favorites'])\n",
    "plt.ylim(0, 7500)\n",
    "plt.xlim(0, 2000)\n",
    "plt.xlabel(\"Retweets\")\n",
    "plt.ylabel(\"Favorites\")\n",
    "plt.show()"
   ]
  },
  {
   "cell_type": "code",
   "execution_count": 10,
   "metadata": {},
   "outputs": [],
   "source": [
    "# Function to generate n-grams from sentences.\n",
    "def extract_ngrams(text_lst, num):\n",
    "    n_grams = ngrams(nltk.word_tokenize(' '.join(text_lst)), num)\n",
    "    return [ ' '.join(grams) for grams in n_grams]\n",
    "\n",
    "#Tokenize, Lowercase, and Filter Stopwords for Column in DataFrame\n",
    "def tokenize(df, col_name):\n",
    "    #Pull down stopwords and punctuation\n",
    "    punctuation_ = set(string.punctuation)\n",
    "    stopwords_ = set(stopwords.words('english'))\n",
    "    \n",
    "    #Use Snowball Stemmer for stemming\n",
    "    stemmer_snowball = SnowballStemmer('english') \n",
    "    \n",
    "    #Modify text\n",
    "    df[col_name] = df[col_name].apply(lambda row: [w.split('://')[0] for w in row]) #Remove links \n",
    "    df[col_name] = df[col_name].apply(lambda row: word_tokenize(row)) #Tokenize (separate words)\n",
    "    df[col_name] = df[col_name].apply(lambda row: [w.lower() for w in row]) #Lowercase\n",
    "    df[col_name] = df[col_name].apply(lambda row: [w for w in row if not w in punctuation_]) #Remove Stopwords\n",
    "    df[col_name] = df[col_name].apply(lambda row: [w for w in row if not w in stopwords_]) #Remove Punctuation\n",
    "    df[col_name] = df[col_name].apply(lambda row: [stemmer_snowball.stem(w) for w in row]) #Stemming (taking words back to the basics)\n",
    "    df[col_name] = df[col_name].apply(lambda row: extract_ngrams(row,1) + extract_ngrams(row,2)) #Add 2-Grams \n",
    "    df[col_name] = df[col_name].apply(lambda row: pos_tag(row))#Tag speech with noun/adj/verb/etc.\n",
    "    \n",
    "    \n",
    "    return df"
   ]
  },
  {
   "cell_type": "markdown",
   "metadata": {},
   "source": [
    "# Should I keep the hashtag symbol???"
   ]
  },
  {
   "cell_type": "code",
   "execution_count": 11,
   "metadata": {},
   "outputs": [],
   "source": [
    "#Make all words lowercase\n",
    "df_twitter['tokenized'] = df_twitter['text'].apply(lambda row: row.split('://')[0]) \n",
    "\n",
    "#Tokenize tweets\n",
    "df_twitter['tokenized'] = df_twitter['tokenized'].apply(lambda row: word_tokenize(row)) \n",
    "\n",
    "#Make all words lowercase\n",
    "df_twitter['tokenized'] = df_twitter['tokenized'].apply(lambda row: [word.lower() for word in row]) \n",
    "\n",
    "#Filter stopwords\n",
    "stopwords_ = set(stopwords.words('english'))\n",
    "punctuation_ = set(string.punctuation)\n",
    "df_twitter['tokenized'] = df_twitter['tokenized'].apply(lambda row: [w for w in row if not w in punctuation_]) \n",
    "\n",
    "#Stemming\n",
    "stemmer_snowball = SnowballStemmer('english')\n",
    "df_twitter['tokenized'] = df_twitter['tokenized'].apply(lambda row: [stemmer_snowball.stem(word) for word in row]) \n",
    "\n",
    "#Add N-Grams\n",
    "#df_twitter['tokenized'] = df_twitter['tokenized'].apply(lambda row: extract_ngrams(row, 1) + extract_ngrams(row, 2)) \n",
    "\n",
    "#Part-of-Speech tagging (create tuple of word and noun/verb/adj/etc.)\n",
    "#df_twitter['tokenized'] = df_twitter['tokenized'].apply(lambda row: pos_tag(row)) "
   ]
  },
  {
   "cell_type": "code",
   "execution_count": 12,
   "metadata": {},
   "outputs": [],
   "source": [
    "#Vectorize the bag-of-words using TFIDF\n",
    "def dummy_fun(doc):\n",
    "    return doc\n",
    "\n",
    "vectorizer = TfidfVectorizer(\n",
    "    analyzer='word',\n",
    "    tokenizer=dummy_fun,\n",
    "    preprocessor=dummy_fun,\n",
    "    token_pattern=None)  \n",
    "\n",
    "vectors = vectorizer.fit_transform(df_twitter['tokenized'])\n",
    "feature_names = vectorizer.get_feature_names()\n",
    "dense = vectors.todense()\n",
    "denselist = dense.tolist()\n",
    "df_twitter_tfidf = pd.DataFrame(denselist, columns = feature_names)"
   ]
  },
  {
   "cell_type": "code",
   "execution_count": 13,
   "metadata": {},
   "outputs": [
    {
     "data": {
      "text/plain": [
       "(2640, 6211)"
      ]
     },
     "execution_count": 13,
     "metadata": {},
     "output_type": "execute_result"
    }
   ],
   "source": [
    "df_twitter_tfidf.shape"
   ]
  },
  {
   "cell_type": "code",
   "execution_count": 14,
   "metadata": {},
   "outputs": [
    {
     "data": {
      "text/html": [
       "<div>\n",
       "<style scoped>\n",
       "    .dataframe tbody tr th:only-of-type {\n",
       "        vertical-align: middle;\n",
       "    }\n",
       "\n",
       "    .dataframe tbody tr th {\n",
       "        vertical-align: top;\n",
       "    }\n",
       "\n",
       "    .dataframe thead th {\n",
       "        text-align: right;\n",
       "    }\n",
       "</style>\n",
       "<table border=\"1\" class=\"dataframe\">\n",
       "  <thead>\n",
       "    <tr style=\"text-align: right;\">\n",
       "      <th></th>\n",
       "      <th>''</th>\n",
       "      <th>'d</th>\n",
       "      <th>'m</th>\n",
       "      <th>'s</th>\n",
       "      <th>+100</th>\n",
       "      <th>--</th>\n",
       "      <th>-/</th>\n",
       "      <th>-100</th>\n",
       "      <th>-3</th>\n",
       "      <th>-doctor</th>\n",
       "      <th>...</th>\n",
       "      <th>🤷‍♂️</th>\n",
       "      <th>🥧</th>\n",
       "      <th>🥧we</th>\n",
       "      <th>🥰</th>\n",
       "      <th>🥰🐀</th>\n",
       "      <th>🥰🚀</th>\n",
       "      <th>🥳</th>\n",
       "      <th>🥳🎆</th>\n",
       "      <th>🥺</th>\n",
       "      <th>🦸🏻</th>\n",
       "    </tr>\n",
       "  </thead>\n",
       "  <tbody>\n",
       "    <tr>\n",
       "      <th>4</th>\n",
       "      <td>0.0</td>\n",
       "      <td>0.0</td>\n",
       "      <td>0.000000</td>\n",
       "      <td>0.000000</td>\n",
       "      <td>0.0</td>\n",
       "      <td>0.0</td>\n",
       "      <td>0.0</td>\n",
       "      <td>0.0</td>\n",
       "      <td>0.0</td>\n",
       "      <td>0.0</td>\n",
       "      <td>...</td>\n",
       "      <td>0.0</td>\n",
       "      <td>0.0</td>\n",
       "      <td>0.0</td>\n",
       "      <td>0.0</td>\n",
       "      <td>0.0</td>\n",
       "      <td>0.0</td>\n",
       "      <td>0.0</td>\n",
       "      <td>0.0</td>\n",
       "      <td>0.0</td>\n",
       "      <td>0.0</td>\n",
       "    </tr>\n",
       "    <tr>\n",
       "      <th>5</th>\n",
       "      <td>0.0</td>\n",
       "      <td>0.0</td>\n",
       "      <td>0.000000</td>\n",
       "      <td>0.000000</td>\n",
       "      <td>0.0</td>\n",
       "      <td>0.0</td>\n",
       "      <td>0.0</td>\n",
       "      <td>0.0</td>\n",
       "      <td>0.0</td>\n",
       "      <td>0.0</td>\n",
       "      <td>...</td>\n",
       "      <td>0.0</td>\n",
       "      <td>0.0</td>\n",
       "      <td>0.0</td>\n",
       "      <td>0.0</td>\n",
       "      <td>0.0</td>\n",
       "      <td>0.0</td>\n",
       "      <td>0.0</td>\n",
       "      <td>0.0</td>\n",
       "      <td>0.0</td>\n",
       "      <td>0.0</td>\n",
       "    </tr>\n",
       "    <tr>\n",
       "      <th>6</th>\n",
       "      <td>0.0</td>\n",
       "      <td>0.0</td>\n",
       "      <td>0.000000</td>\n",
       "      <td>0.149820</td>\n",
       "      <td>0.0</td>\n",
       "      <td>0.0</td>\n",
       "      <td>0.0</td>\n",
       "      <td>0.0</td>\n",
       "      <td>0.0</td>\n",
       "      <td>0.0</td>\n",
       "      <td>...</td>\n",
       "      <td>0.0</td>\n",
       "      <td>0.0</td>\n",
       "      <td>0.0</td>\n",
       "      <td>0.0</td>\n",
       "      <td>0.0</td>\n",
       "      <td>0.0</td>\n",
       "      <td>0.0</td>\n",
       "      <td>0.0</td>\n",
       "      <td>0.0</td>\n",
       "      <td>0.0</td>\n",
       "    </tr>\n",
       "    <tr>\n",
       "      <th>7</th>\n",
       "      <td>0.0</td>\n",
       "      <td>0.0</td>\n",
       "      <td>0.137353</td>\n",
       "      <td>0.091855</td>\n",
       "      <td>0.0</td>\n",
       "      <td>0.0</td>\n",
       "      <td>0.0</td>\n",
       "      <td>0.0</td>\n",
       "      <td>0.0</td>\n",
       "      <td>0.0</td>\n",
       "      <td>...</td>\n",
       "      <td>0.0</td>\n",
       "      <td>0.0</td>\n",
       "      <td>0.0</td>\n",
       "      <td>0.0</td>\n",
       "      <td>0.0</td>\n",
       "      <td>0.0</td>\n",
       "      <td>0.0</td>\n",
       "      <td>0.0</td>\n",
       "      <td>0.0</td>\n",
       "      <td>0.0</td>\n",
       "    </tr>\n",
       "  </tbody>\n",
       "</table>\n",
       "<p>4 rows × 6211 columns</p>\n",
       "</div>"
      ],
      "text/plain": [
       "    ''   'd        'm        's  +100   --   -/  -100   -3  -doctor  ...  \\\n",
       "4  0.0  0.0  0.000000  0.000000   0.0  0.0  0.0   0.0  0.0      0.0  ...   \n",
       "5  0.0  0.0  0.000000  0.000000   0.0  0.0  0.0   0.0  0.0      0.0  ...   \n",
       "6  0.0  0.0  0.000000  0.149820   0.0  0.0  0.0   0.0  0.0      0.0  ...   \n",
       "7  0.0  0.0  0.137353  0.091855   0.0  0.0  0.0   0.0  0.0      0.0  ...   \n",
       "\n",
       "   🤷‍♂️    🥧  🥧we    🥰   🥰🐀   🥰🚀    🥳   🥳🎆    🥺   🦸🏻  \n",
       "4   0.0  0.0  0.0  0.0  0.0  0.0  0.0  0.0  0.0  0.0  \n",
       "5   0.0  0.0  0.0  0.0  0.0  0.0  0.0  0.0  0.0  0.0  \n",
       "6   0.0  0.0  0.0  0.0  0.0  0.0  0.0  0.0  0.0  0.0  \n",
       "7   0.0  0.0  0.0  0.0  0.0  0.0  0.0  0.0  0.0  0.0  \n",
       "\n",
       "[4 rows x 6211 columns]"
      ]
     },
     "execution_count": 14,
     "metadata": {},
     "output_type": "execute_result"
    }
   ],
   "source": [
    "df_twitter_tfidf.iloc[4:8]"
   ]
  },
  {
   "cell_type": "markdown",
   "metadata": {},
   "source": [
    "# Supervised"
   ]
  },
  {
   "cell_type": "code",
   "execution_count": 52,
   "metadata": {},
   "outputs": [],
   "source": [
    "#Create X and y variables \n",
    "X = df_twitter_tfidf\n",
    "y = df_twitter['num_retweets'].apply(lambda x: 1 if x > 20 else 0) #Trending is greater than 20 retweets"
   ]
  },
  {
   "cell_type": "code",
   "execution_count": 61,
   "metadata": {},
   "outputs": [],
   "source": [
    "#Train, test and split the data\n",
    "X_train, X_test, y_train, y_test= train_test_split(X,y, test_size= 0.2)"
   ]
  },
  {
   "cell_type": "code",
   "execution_count": null,
   "metadata": {},
   "outputs": [],
   "source": [
    "#Create base model for comparison\n"
   ]
  },
  {
   "cell_type": "code",
   "execution_count": 75,
   "metadata": {},
   "outputs": [],
   "source": [
    "# Initialize the classificators\n",
    "tree= DecisionTreeClassifier(random_state=1) # using the random state for reproducibility\n",
    "forest= RandomForestClassifier(random_state=1)\n",
    "knn= KNeighborsClassifier(n_neighbors=5)\n",
    "xboost= XGBClassifier(random_state=1)\n",
    "gboost = GradientBoostingClassifier(random_state=1) \n",
    "adaboost = AdaBoostClassifier(random_state=1)"
   ]
  },
  {
   "cell_type": "code",
   "execution_count": 76,
   "metadata": {},
   "outputs": [
    {
     "name": "stdout",
     "output_type": "stream",
     "text": [
      "The accuracy of model DecisionTreeClassifier is 0.94\n",
      "              precision    recall  f1-score   support\n",
      "\n",
      "           0       0.96      0.95      0.95       367\n",
      "           1       0.89      0.91      0.90       161\n",
      "\n",
      "    accuracy                           0.94       528\n",
      "   macro avg       0.92      0.93      0.93       528\n",
      "weighted avg       0.94      0.94      0.94       528\n",
      "\n",
      "\n",
      "\n",
      "The accuracy of model RandomForestClassifier is 0.95\n",
      "              precision    recall  f1-score   support\n",
      "\n",
      "           0       0.95      0.98      0.97       367\n",
      "           1       0.95      0.89      0.92       161\n",
      "\n",
      "    accuracy                           0.95       528\n",
      "   macro avg       0.95      0.93      0.94       528\n",
      "weighted avg       0.95      0.95      0.95       528\n",
      "\n",
      "\n",
      "\n",
      "The accuracy of model KNeighborsClassifier is 0.89\n",
      "              precision    recall  f1-score   support\n",
      "\n",
      "           0       0.94      0.90      0.92       367\n",
      "           1       0.80      0.86      0.83       161\n",
      "\n",
      "    accuracy                           0.89       528\n",
      "   macro avg       0.87      0.88      0.87       528\n",
      "weighted avg       0.89      0.89      0.89       528\n",
      "\n",
      "\n",
      "\n"
     ]
    },
    {
     "name": "stderr",
     "output_type": "stream",
     "text": [
      "/home/louisbove84/anaconda3/lib/python3.7/site-packages/xgboost/sklearn.py:888: UserWarning: The use of label encoder in XGBClassifier is deprecated and will be removed in a future release. To remove this warning, do the following: 1) Pass option use_label_encoder=False when constructing XGBClassifier object; and 2) Encode your labels (y) as integers starting with 0, i.e. 0, 1, 2, ..., [num_class - 1].\n",
      "  warnings.warn(label_encoder_deprecation_msg, UserWarning)\n"
     ]
    },
    {
     "name": "stdout",
     "output_type": "stream",
     "text": [
      "[10:22:33] WARNING: ../src/learner.cc:1061: Starting in XGBoost 1.3.0, the default evaluation metric used with the objective 'binary:logistic' was changed from 'error' to 'logloss'. Explicitly set eval_metric if you'd like to restore the old behavior.\n",
      "The accuracy of model XGBClassifier is 0.95\n",
      "              precision    recall  f1-score   support\n",
      "\n",
      "           0       0.95      0.98      0.96       367\n",
      "           1       0.95      0.88      0.91       161\n",
      "\n",
      "    accuracy                           0.95       528\n",
      "   macro avg       0.95      0.93      0.94       528\n",
      "weighted avg       0.95      0.95      0.95       528\n",
      "\n",
      "\n",
      "\n",
      "The accuracy of model GradientBoostingClassifier is 0.91\n",
      "              precision    recall  f1-score   support\n",
      "\n",
      "           0       0.91      0.96      0.94       367\n",
      "           1       0.90      0.79      0.84       161\n",
      "\n",
      "    accuracy                           0.91       528\n",
      "   macro avg       0.91      0.88      0.89       528\n",
      "weighted avg       0.91      0.91      0.91       528\n",
      "\n",
      "\n",
      "\n",
      "The accuracy of model AdaBoostClassifier is 0.90\n",
      "              precision    recall  f1-score   support\n",
      "\n",
      "           0       0.92      0.94      0.93       367\n",
      "           1       0.85      0.83      0.84       161\n",
      "\n",
      "    accuracy                           0.90       528\n",
      "   macro avg       0.89      0.88      0.89       528\n",
      "weighted avg       0.90      0.90      0.90       528\n",
      "\n",
      "\n",
      "\n"
     ]
    }
   ],
   "source": [
    "# now, create a list with the objects \n",
    "models= [tree, forest, knn, xboost, gboost, adaboost]\n",
    "\n",
    "for model in models:\n",
    "    model.fit(X_train, y_train) # fit the model\n",
    "    y_pred= model.predict(X_test) # predict on the test set\n",
    "    accuracy= accuracy_score(y_test, y_pred) # model accuracy\n",
    "    clf_report= classification_report(y_test, y_pred) # precision and recall \n",
    "    print(f\"The accuracy of model {type(model).__name__} is {accuracy:.2f}\")\n",
    "    print(clf_report)\n",
    "    print(\"\\n\")"
   ]
  },
  {
   "cell_type": "code",
   "execution_count": null,
   "metadata": {},
   "outputs": [],
   "source": [
    "#Precision = Accuracy of your positive predictions (TP/(TP+FP)) (Think Predictions)\n",
    "#Recall = Accuracy of the positive samples (TP/(TP+FN))         (Think Truth)"
   ]
  },
  {
   "cell_type": "markdown",
   "metadata": {},
   "source": [
    "# Unsupervised"
   ]
  },
  {
   "cell_type": "code",
   "execution_count": null,
   "metadata": {},
   "outputs": [],
   "source": []
  },
  {
   "cell_type": "code",
   "execution_count": null,
   "metadata": {},
   "outputs": [],
   "source": []
  },
  {
   "cell_type": "code",
   "execution_count": null,
   "metadata": {},
   "outputs": [],
   "source": []
  },
  {
   "cell_type": "markdown",
   "metadata": {},
   "source": [
    "# Pipeline"
   ]
  },
  {
   "cell_type": "code",
   "execution_count": null,
   "metadata": {},
   "outputs": [],
   "source": []
  }
 ],
 "metadata": {
  "kernelspec": {
   "display_name": "Python 3",
   "language": "python",
   "name": "python3"
  },
  "language_info": {
   "codemirror_mode": {
    "name": "ipython",
    "version": 3
   },
   "file_extension": ".py",
   "mimetype": "text/x-python",
   "name": "python",
   "nbconvert_exporter": "python",
   "pygments_lexer": "ipython3",
   "version": "3.7.7"
  }
 },
 "nbformat": 4,
 "nbformat_minor": 4
}
